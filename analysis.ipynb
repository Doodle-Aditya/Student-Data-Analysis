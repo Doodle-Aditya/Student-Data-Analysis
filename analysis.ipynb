{
 "cells": [
  {
   "cell_type": "code",
   "execution_count": 2,
   "id": "f047927d",
   "metadata": {},
   "outputs": [],
   "source": [
    "import pandas as pd\n",
    "import matplotlib.pyplot as plt"
   ]
  },
  {
   "cell_type": "code",
   "execution_count": 3,
   "id": "0acfd423",
   "metadata": {},
   "outputs": [],
   "source": [
    "df = pd.read_csv(\"Student.csv\")"
   ]
  },
  {
   "cell_type": "code",
   "execution_count": null,
   "id": "1012c7dd",
   "metadata": {},
   "outputs": [],
   "source": []
  },
  {
   "cell_type": "code",
   "execution_count": 4,
   "id": "63f1b0dd",
   "metadata": {},
   "outputs": [
    {
     "data": {
      "text/html": [
       "<div>\n",
       "<style scoped>\n",
       "    .dataframe tbody tr th:only-of-type {\n",
       "        vertical-align: middle;\n",
       "    }\n",
       "\n",
       "    .dataframe tbody tr th {\n",
       "        vertical-align: top;\n",
       "    }\n",
       "\n",
       "    .dataframe thead th {\n",
       "        text-align: right;\n",
       "    }\n",
       "</style>\n",
       "<table border=\"1\" class=\"dataframe\">\n",
       "  <thead>\n",
       "    <tr style=\"text-align: right;\">\n",
       "      <th></th>\n",
       "      <th>ID</th>\n",
       "      <th>class</th>\n",
       "      <th>gender</th>\n",
       "      <th>race</th>\n",
       "      <th>GPA</th>\n",
       "      <th>Algebra</th>\n",
       "      <th>Calculus1</th>\n",
       "      <th>Calculus2</th>\n",
       "      <th>Statistics</th>\n",
       "      <th>Probability</th>\n",
       "      <th>Measure</th>\n",
       "      <th>Functional_analysis</th>\n",
       "      <th>from1</th>\n",
       "      <th>from2</th>\n",
       "      <th>from3</th>\n",
       "      <th>from4</th>\n",
       "      <th>y</th>\n",
       "    </tr>\n",
       "  </thead>\n",
       "  <tbody>\n",
       "    <tr>\n",
       "      <th>0</th>\n",
       "      <td>1141</td>\n",
       "      <td>A</td>\n",
       "      <td>male</td>\n",
       "      <td>1</td>\n",
       "      <td>73.47</td>\n",
       "      <td>64</td>\n",
       "      <td>81</td>\n",
       "      <td>87</td>\n",
       "      <td>60</td>\n",
       "      <td>74</td>\n",
       "      <td>71</td>\n",
       "      <td>60</td>\n",
       "      <td>A</td>\n",
       "      <td>A</td>\n",
       "      <td>A</td>\n",
       "      <td>3</td>\n",
       "      <td>0</td>\n",
       "    </tr>\n",
       "    <tr>\n",
       "      <th>1</th>\n",
       "      <td>1142</td>\n",
       "      <td>A</td>\n",
       "      <td>female</td>\n",
       "      <td>1</td>\n",
       "      <td>71.22</td>\n",
       "      <td>57</td>\n",
       "      <td>50</td>\n",
       "      <td>51</td>\n",
       "      <td>51</td>\n",
       "      <td>55</td>\n",
       "      <td>62</td>\n",
       "      <td>61</td>\n",
       "      <td>B</td>\n",
       "      <td>A</td>\n",
       "      <td>A</td>\n",
       "      <td>2</td>\n",
       "      <td>0</td>\n",
       "    </tr>\n",
       "    <tr>\n",
       "      <th>2</th>\n",
       "      <td>1143</td>\n",
       "      <td>A</td>\n",
       "      <td>female</td>\n",
       "      <td>2</td>\n",
       "      <td>74.56</td>\n",
       "      <td>47</td>\n",
       "      <td>48</td>\n",
       "      <td>71</td>\n",
       "      <td>60</td>\n",
       "      <td>61</td>\n",
       "      <td>68</td>\n",
       "      <td>64</td>\n",
       "      <td>C</td>\n",
       "      <td>A</td>\n",
       "      <td>A</td>\n",
       "      <td>0</td>\n",
       "      <td>1</td>\n",
       "    </tr>\n",
       "    <tr>\n",
       "      <th>3</th>\n",
       "      <td>1144</td>\n",
       "      <td>A</td>\n",
       "      <td>female</td>\n",
       "      <td>1</td>\n",
       "      <td>72.89</td>\n",
       "      <td>46</td>\n",
       "      <td>72</td>\n",
       "      <td>38</td>\n",
       "      <td>60</td>\n",
       "      <td>29</td>\n",
       "      <td>54</td>\n",
       "      <td>51</td>\n",
       "      <td>D</td>\n",
       "      <td>A</td>\n",
       "      <td>A</td>\n",
       "      <td>0</td>\n",
       "      <td>0</td>\n",
       "    </tr>\n",
       "    <tr>\n",
       "      <th>4</th>\n",
       "      <td>1145</td>\n",
       "      <td>A</td>\n",
       "      <td>female</td>\n",
       "      <td>1</td>\n",
       "      <td>70.11</td>\n",
       "      <td>49</td>\n",
       "      <td>45</td>\n",
       "      <td>63</td>\n",
       "      <td>60</td>\n",
       "      <td>66</td>\n",
       "      <td>66</td>\n",
       "      <td>61</td>\n",
       "      <td>E</td>\n",
       "      <td>A</td>\n",
       "      <td>A</td>\n",
       "      <td>0</td>\n",
       "      <td>0</td>\n",
       "    </tr>\n",
       "  </tbody>\n",
       "</table>\n",
       "</div>"
      ],
      "text/plain": [
       "     ID class  gender  race    GPA  Algebra  Calculus1  Calculus2  Statistics  \\\n",
       "0  1141     A    male     1  73.47       64         81         87          60   \n",
       "1  1142     A  female     1  71.22       57         50         51          51   \n",
       "2  1143     A  female     2  74.56       47         48         71          60   \n",
       "3  1144     A  female     1  72.89       46         72         38          60   \n",
       "4  1145     A  female     1  70.11       49         45         63          60   \n",
       "\n",
       "   Probability  Measure  Functional_analysis from1 from2 from3  from4  y  \n",
       "0           74       71                   60     A     A     A      3  0  \n",
       "1           55       62                   61     B     A     A      2  0  \n",
       "2           61       68                   64     C     A     A      0  1  \n",
       "3           29       54                   51     D     A     A      0  0  \n",
       "4           66       66                   61     E     A     A      0  0  "
      ]
     },
     "execution_count": 4,
     "metadata": {},
     "output_type": "execute_result"
    }
   ],
   "source": [
    "df.head()"
   ]
  },
  {
   "cell_type": "code",
   "execution_count": 5,
   "id": "025999b7",
   "metadata": {},
   "outputs": [
    {
     "data": {
      "text/plain": [
       "(105, 17)"
      ]
     },
     "execution_count": 5,
     "metadata": {},
     "output_type": "execute_result"
    }
   ],
   "source": [
    "df.shape"
   ]
  },
  {
   "cell_type": "code",
   "execution_count": 6,
   "id": "a7a06ba2",
   "metadata": {},
   "outputs": [],
   "source": [
    "gender_dist = df['gender'].value_counts()"
   ]
  },
  {
   "cell_type": "code",
   "execution_count": 7,
   "id": "c377b91f",
   "metadata": {},
   "outputs": [
    {
     "data": {
      "text/plain": [
       "([<matplotlib.patches.Wedge at 0x21c056c1a90>,\n",
       "  <matplotlib.patches.Wedge at 0x21c055907d0>],\n",
       " [Text(-0.49204452806381604, 0.9838151159656253, 'female'),\n",
       "  Text(0.4920446201752321, -0.9838150698970878, 'male')],\n",
       " [Text(-0.26838792439844505, 0.536626426890341, '64.76%'),\n",
       "  Text(0.26838797464103564, -0.5366264017620478, '35.24%')])"
      ]
     },
     "execution_count": 7,
     "metadata": {},
     "output_type": "execute_result"
    },
    {
     "data": {
      "image/png": "[encoded data removed]",
      "text/plain": [
       "<Figure size 640x480 with 1 Axes>"
      ]
     },
     "metadata": {},
     "output_type": "display_data"
    }
   ],
   "source": [
    "plt.pie(gender_dist,labels=gender_dist.index,autopct='%1.2f%%')"
   ]
  },
  {
   "cell_type": "markdown",
   "id": "5001c6c9",
   "metadata": {},
   "source": [
    "# Observation :\n",
    "Female count is more in the Data Set"
   ]
  },
  {
   "cell_type": "code",
   "execution_count": 8,
   "id": "64add05e",
   "metadata": {},
   "outputs": [],
   "source": [
    "gpa = df['GPA']"
   ]
  },
  {
   "cell_type": "code",
   "execution_count": 9,
   "id": "65cdf632",
   "metadata": {},
   "outputs": [
    {
     "data": {
      "text/plain": [
       "82.95704761904761"
      ]
     },
     "execution_count": 9,
     "metadata": {},
     "output_type": "execute_result"
    }
   ],
   "source": [
    "gpa.mean()"
   ]
  },
  {
   "cell_type": "markdown",
   "id": "99cc4369",
   "metadata": {},
   "source": [
    "# Observation : \n",
    "Average GPA is 82.95"
   ]
  },
  {
   "cell_type": "code",
   "execution_count": 10,
   "id": "8d475179",
   "metadata": {},
   "outputs": [
    {
     "data": {
      "text/plain": [
       "71.96190476190476"
      ]
     },
     "execution_count": 10,
     "metadata": {},
     "output_type": "execute_result"
    }
   ],
   "source": [
    "df['Calculus1'].mean()"
   ]
  },
  {
   "cell_type": "code",
   "execution_count": 11,
   "id": "e2ae9c73",
   "metadata": {},
   "outputs": [
    {
     "data": {
      "text/plain": [
       "78.94285714285714"
      ]
     },
     "execution_count": 11,
     "metadata": {},
     "output_type": "execute_result"
    }
   ],
   "source": [
    "df['Calculus2'].mean()"
   ]
  },
  {
   "cell_type": "markdown",
   "id": "6ab13e36",
   "metadata": {},
   "source": [
    "# Observation:\n",
    "Students performed Better in Calculus 2 than in Calculus 1"
   ]
  },
  {
   "cell_type": "code",
   "execution_count": 12,
   "id": "7809b00a",
   "metadata": {},
   "outputs": [],
   "source": [
    "total_marks = df['Algebra'] + df['Calculus1'] + df['Calculus2'] + df['Statistics'] + df['Probability'] + df['Measure']"
   ]
  },
  {
   "cell_type": "code",
   "execution_count": 13,
   "id": "7f437e75",
   "metadata": {},
   "outputs": [
    {
     "data": {
      "text/plain": [
       "476.73333333333335"
      ]
     },
     "execution_count": 13,
     "metadata": {},
     "output_type": "execute_result"
    }
   ],
   "source": [
    "total_marks.mean()"
   ]
  },
  {
   "cell_type": "markdown",
   "id": "8973156d",
   "metadata": {},
   "source": [
    "# Observation:\n",
    "The average total marks of the students are 476.7333"
   ]
  },
  {
   "cell_type": "code",
   "execution_count": null,
   "id": "02f5605f",
   "metadata": {},
   "outputs": [],
   "source": []
  }
 ],
 "metadata": {
  "kernelspec": {
   "display_name": "base",
   "language": "python",
   "name": "python3"
  },
  "language_info": {
   "codemirror_mode": {
    "name": "ipython",
    "version": 3
   },
   "file_extension": ".py",
   "mimetype": "text/x-python",
   "name": "python",
   "nbconvert_exporter": "python",
   "pygments_lexer": "ipython3",
   "version": "3.12.7"
  }
 },
 "nbformat": 4,
 "nbformat_minor": 5
}
